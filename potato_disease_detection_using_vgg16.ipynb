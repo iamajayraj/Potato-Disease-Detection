{
  "nbformat": 4,
  "nbformat_minor": 0,
  "metadata": {
    "colab": {
      "provenance": [],
      "authorship_tag": "ABX9TyMf2dwIDrr4NLlV9jerqF6P",
      "include_colab_link": true
    },
    "kernelspec": {
      "name": "python3",
      "display_name": "Python 3"
    },
    "language_info": {
      "name": "python"
    }
  },
  "cells": [
    {
      "cell_type": "markdown",
      "metadata": {
        "id": "view-in-github",
        "colab_type": "text"
      },
      "source": [
        "<a href=\"https://colab.research.google.com/github/iamajayraj/Potato-Disease-Detection/blob/main/potato_disease_detection_using_vgg16.ipynb\" target=\"_parent\"><img src=\"https://colab.research.google.com/assets/colab-badge.svg\" alt=\"Open In Colab\"/></a>"
      ]
    },
    {
      "cell_type": "code",
      "execution_count": null,
      "metadata": {
        "id": "6sYiXyiwWBiv"
      },
      "outputs": [],
      "source": [
        "import tensorflow as tf\n",
        "from tensorflow.keras import Sequential,utils\n",
        "from tensorflow.keras.layers import Dense, Flatten\n",
        "from tensorflow.keras.applications.vgg16 import VGG16\n",
        "from tensorflow.keras.optimizers import Adam\n",
        "from tensorflow.keras.regularizers import l2\n",
        "from tensorflow.keras.preprocessing.image import ImageDataGenerator\n",
        "from tensorflow.keras.callbacks import ModelCheckpoint, EarlyStopping, LearningRateScheduler\n"
      ]
    },
    {
      "cell_type": "code",
      "source": [
        "import zipfile\n",
        "zip_ref=zipfile.ZipFile('/content/archive (3).zip','r')\n",
        "zip_ref.extractall('/content')\n",
        "zip_ref.close()"
      ],
      "metadata": {
        "id": "6tNKd7SZxUY6"
      },
      "execution_count": null,
      "outputs": []
    },
    {
      "cell_type": "code",
      "source": [
        "# Define a learning rate schedule function if needed\n",
        "def lr_schedule(epoch):\n",
        "    if epoch < 10:\n",
        "        return 0.01\n",
        "    else:\n",
        "        return 0.001"
      ],
      "metadata": {
        "id": "4EERpvnKxUz1"
      },
      "execution_count": null,
      "outputs": []
    },
    {
      "cell_type": "code",
      "source": [
        "adam = Adam(learning_rate=0.01)"
      ],
      "metadata": {
        "id": "pquUvwK2xU7d"
      },
      "execution_count": null,
      "outputs": []
    },
    {
      "cell_type": "code",
      "source": [
        "# Data Augmentation\n",
        "train_datagen = ImageDataGenerator(\n",
        "    rescale=1.0 / 255,\n",
        "    rotation_range=20,\n",
        "    width_shift_range=0.2,\n",
        "    height_shift_range=0.2,\n",
        "    shear_range=0.2,\n",
        "    zoom_range=0.2,\n",
        "    horizontal_flip=True,\n",
        "    fill_mode='nearest'\n",
        ")\n",
        "\n",
        "# Load and augment the training dataset\n",
        "train_ds = train_datagen.flow_from_directory(\n",
        "    directory='/content/Potato/Train',\n",
        "    target_size=(256, 256),\n",
        "    batch_size=16,\n",
        "    class_mode='categorical',\n",
        "    color_mode='rgb'\n",
        ")\n",
        "\n",
        "valid_datagen = ImageDataGenerator(rescale=1.0 / 255)\n",
        "\n",
        "valid_ds = valid_datagen.flow_from_directory(\n",
        "    directory='/content/Potato/Valid',\n",
        "    target_size=(256, 256),\n",
        "    batch_size=16,\n",
        "    class_mode='categorical',\n",
        "    color_mode='rgb'\n",
        ")"
      ],
      "metadata": {
        "colab": {
          "base_uri": "https://localhost:8080/"
        },
        "id": "abalm_i6xVAg",
        "outputId": "c4174a61-2896-4286-f2c8-d06ce6d47219"
      },
      "execution_count": null,
      "outputs": [
        {
          "output_type": "stream",
          "name": "stdout",
          "text": [
            "Found 900 images belonging to 3 classes.\n",
            "Found 300 images belonging to 3 classes.\n"
          ]
        }
      ]
    },
    {
      "cell_type": "code",
      "source": [
        "conv_base = VGG16(\n",
        "    weights='imagenet',\n",
        "    include_top=False,\n",
        "    input_shape=(256, 256, 3)\n",
        ")\n",
        "\n",
        "conv_base.trainable = False"
      ],
      "metadata": {
        "colab": {
          "base_uri": "https://localhost:8080/"
        },
        "id": "RIIkkZ5xxVDw",
        "outputId": "c0ec2d8e-0f01-4b86-e402-65dba365b3f1"
      },
      "execution_count": null,
      "outputs": [
        {
          "output_type": "stream",
          "name": "stdout",
          "text": [
            "Downloading data from https://storage.googleapis.com/tensorflow/keras-applications/vgg16/vgg16_weights_tf_dim_ordering_tf_kernels_notop.h5\n",
            "58889256/58889256 [==============================] - 0s 0us/step\n"
          ]
        }
      ]
    },
    {
      "cell_type": "code",
      "source": [
        "\n",
        "# Create CNN model\n",
        "model = Sequential()\n",
        "\n",
        "model.add(conv_base)\n",
        "\n",
        "model.add(Flatten())\n",
        "\n",
        "model.add(Dense(64, activation='relu', kernel_regularizer=l2(0.01)))\n",
        "model.add(Dense(3, activation='softmax'))\n",
        "\n",
        "model.compile(optimizer=adam, loss='categorical_crossentropy', metrics=['accuracy'])\n"
      ],
      "metadata": {
        "id": "LRhUh1enWCI7"
      },
      "execution_count": null,
      "outputs": []
    },
    {
      "cell_type": "code",
      "source": [
        "# Callbacks\n",
        "model_checkpoint = ModelCheckpoint(\"best_model.h5\", save_best_only=True)\n",
        "early_stopping = EarlyStopping(patience=5)\n",
        "lr_scheduler = LearningRateScheduler(lr_schedule)\n"
      ],
      "metadata": {
        "id": "MUAARbxHxzKI"
      },
      "execution_count": null,
      "outputs": []
    },
    {
      "cell_type": "code",
      "source": [
        "# Train the model\n",
        "model.fit(train_ds, epochs=30, validation_data=valid_ds, callbacks=[model_checkpoint, early_stopping, lr_scheduler])\n"
      ],
      "metadata": {
        "colab": {
          "base_uri": "https://localhost:8080/"
        },
        "id": "di2EUG6MxzMd",
        "outputId": "77a79427-7753-4855-e5d2-14b199a6b465"
      },
      "execution_count": null,
      "outputs": [
        {
          "output_type": "stream",
          "name": "stdout",
          "text": [
            "Epoch 1/30\n",
            "57/57 [==============================] - 32s 362ms/step - loss: 11.0769 - accuracy: 0.6189 - val_loss: 3.4527 - val_accuracy: 0.8133 - lr: 0.0100\n"
          ]
        },
        {
          "output_type": "stream",
          "name": "stderr",
          "text": [
            "/usr/local/lib/python3.10/dist-packages/keras/src/engine/training.py:3079: UserWarning: You are saving your model as an HDF5 file via `model.save()`. This file format is considered legacy. We recommend using instead the native Keras format, e.g. `model.save('my_model.keras')`.\n",
            "  saving_api.save_model(\n"
          ]
        },
        {
          "output_type": "stream",
          "name": "stdout",
          "text": [
            "Epoch 2/30\n",
            "57/57 [==============================] - 17s 300ms/step - loss: 2.7410 - accuracy: 0.7533 - val_loss: 1.7732 - val_accuracy: 0.8367 - lr: 0.0100\n",
            "Epoch 3/30\n",
            "57/57 [==============================] - 17s 307ms/step - loss: 1.7867 - accuracy: 0.7789 - val_loss: 1.2123 - val_accuracy: 0.7200 - lr: 0.0100\n",
            "Epoch 4/30\n",
            "57/57 [==============================] - 17s 298ms/step - loss: 1.1203 - accuracy: 0.7978 - val_loss: 0.8064 - val_accuracy: 0.8567 - lr: 0.0100\n",
            "Epoch 5/30\n",
            "57/57 [==============================] - 17s 302ms/step - loss: 0.8074 - accuracy: 0.8367 - val_loss: 0.5760 - val_accuracy: 0.9467 - lr: 0.0100\n",
            "Epoch 6/30\n",
            "57/57 [==============================] - 19s 328ms/step - loss: 0.9543 - accuracy: 0.7733 - val_loss: 0.7992 - val_accuracy: 0.8967 - lr: 0.0100\n",
            "Epoch 7/30\n",
            "57/57 [==============================] - 18s 308ms/step - loss: 1.0036 - accuracy: 0.7711 - val_loss: 0.6436 - val_accuracy: 0.9467 - lr: 0.0100\n",
            "Epoch 8/30\n",
            "57/57 [==============================] - 18s 310ms/step - loss: 0.7251 - accuracy: 0.8500 - val_loss: 0.5331 - val_accuracy: 0.9467 - lr: 0.0100\n",
            "Epoch 9/30\n",
            "57/57 [==============================] - 19s 332ms/step - loss: 0.7674 - accuracy: 0.8278 - val_loss: 0.7132 - val_accuracy: 0.8900 - lr: 0.0100\n",
            "Epoch 10/30\n",
            "57/57 [==============================] - 18s 315ms/step - loss: 0.8609 - accuracy: 0.8156 - val_loss: 0.8256 - val_accuracy: 0.7833 - lr: 0.0100\n",
            "Epoch 11/30\n",
            "57/57 [==============================] - 17s 306ms/step - loss: 0.6484 - accuracy: 0.8700 - val_loss: 0.6923 - val_accuracy: 0.7667 - lr: 0.0010\n",
            "Epoch 12/30\n",
            "57/57 [==============================] - 19s 327ms/step - loss: 0.5178 - accuracy: 0.9189 - val_loss: 0.4578 - val_accuracy: 0.9367 - lr: 0.0010\n",
            "Epoch 13/30\n",
            "57/57 [==============================] - 17s 303ms/step - loss: 0.4835 - accuracy: 0.9089 - val_loss: 0.4859 - val_accuracy: 0.8967 - lr: 0.0010\n",
            "Epoch 14/30\n",
            "57/57 [==============================] - 17s 300ms/step - loss: 0.4633 - accuracy: 0.9122 - val_loss: 0.3950 - val_accuracy: 0.9633 - lr: 0.0010\n",
            "Epoch 15/30\n",
            "57/57 [==============================] - 18s 317ms/step - loss: 0.4443 - accuracy: 0.8978 - val_loss: 0.3878 - val_accuracy: 0.9500 - lr: 0.0010\n",
            "Epoch 16/30\n",
            "57/57 [==============================] - 17s 303ms/step - loss: 0.4071 - accuracy: 0.9289 - val_loss: 0.4215 - val_accuracy: 0.9167 - lr: 0.0010\n",
            "Epoch 17/30\n",
            "57/57 [==============================] - 17s 299ms/step - loss: 0.4144 - accuracy: 0.9211 - val_loss: 0.4950 - val_accuracy: 0.8467 - lr: 0.0010\n",
            "Epoch 18/30\n",
            "57/57 [==============================] - 17s 299ms/step - loss: 0.4052 - accuracy: 0.9200 - val_loss: 0.4388 - val_accuracy: 0.8867 - lr: 0.0010\n",
            "Epoch 19/30\n",
            "57/57 [==============================] - 19s 326ms/step - loss: 0.3698 - accuracy: 0.9489 - val_loss: 0.3742 - val_accuracy: 0.9433 - lr: 0.0010\n",
            "Epoch 20/30\n",
            "57/57 [==============================] - 18s 308ms/step - loss: 0.3935 - accuracy: 0.9211 - val_loss: 0.3272 - val_accuracy: 0.9633 - lr: 0.0010\n",
            "Epoch 21/30\n",
            "57/57 [==============================] - 18s 325ms/step - loss: 0.3833 - accuracy: 0.9267 - val_loss: 0.4460 - val_accuracy: 0.8733 - lr: 0.0010\n",
            "Epoch 22/30\n",
            "57/57 [==============================] - 18s 324ms/step - loss: 0.3665 - accuracy: 0.9411 - val_loss: 0.3693 - val_accuracy: 0.9300 - lr: 0.0010\n",
            "Epoch 23/30\n",
            "57/57 [==============================] - 19s 331ms/step - loss: 0.3598 - accuracy: 0.9378 - val_loss: 0.3727 - val_accuracy: 0.9267 - lr: 0.0010\n",
            "Epoch 24/30\n",
            "57/57 [==============================] - 18s 313ms/step - loss: 0.3870 - accuracy: 0.9267 - val_loss: 0.3412 - val_accuracy: 0.9500 - lr: 0.0010\n",
            "Epoch 25/30\n",
            "57/57 [==============================] - 19s 331ms/step - loss: 0.3939 - accuracy: 0.9122 - val_loss: 0.4145 - val_accuracy: 0.9000 - lr: 0.0010\n"
          ]
        },
        {
          "output_type": "execute_result",
          "data": {
            "text/plain": [
              "<keras.src.callbacks.History at 0x7db6b838c1c0>"
            ]
          },
          "metadata": {},
          "execution_count": 9
        }
      ]
    },
    {
      "cell_type": "code",
      "source": [],
      "metadata": {
        "id": "zzVkbqjSxzPH"
      },
      "execution_count": null,
      "outputs": []
    },
    {
      "cell_type": "code",
      "source": [],
      "metadata": {
        "id": "jRXjSmnfxzSd"
      },
      "execution_count": null,
      "outputs": []
    },
    {
      "cell_type": "code",
      "source": [],
      "metadata": {
        "id": "XwapiZrlxzbW"
      },
      "execution_count": null,
      "outputs": []
    }
  ]
}