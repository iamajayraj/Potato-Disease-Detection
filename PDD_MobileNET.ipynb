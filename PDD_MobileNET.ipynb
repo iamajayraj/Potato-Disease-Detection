{
  "nbformat": 4,
  "nbformat_minor": 0,
  "metadata": {
    "colab": {
      "provenance": [],
      "gpuType": "T4",
      "mount_file_id": "1UlUlRo_mOCN5qSpykvDTKqw6dPQS9zq-",
      "authorship_tag": "ABX9TyP90NZrYKvseul69ueMY3p+",
      "include_colab_link": true
    },
    "kernelspec": {
      "name": "python3",
      "display_name": "Python 3"
    },
    "language_info": {
      "name": "python"
    },
    "accelerator": "GPU"
  },
  "cells": [
    {
      "cell_type": "markdown",
      "metadata": {
        "id": "view-in-github",
        "colab_type": "text"
      },
      "source": [
        "<a href=\"https://colab.research.google.com/github/iamajayraj/Potato-Disease-Detection/blob/main/PDD_MobileNET.ipynb\" target=\"_parent\"><img src=\"https://colab.research.google.com/assets/colab-badge.svg\" alt=\"Open In Colab\"/></a>"
      ]
    },
    {
      "cell_type": "code",
      "execution_count": 7,
      "metadata": {
        "id": "K-pZ1qalxztd"
      },
      "outputs": [],
      "source": [
        "import tensorflow as tf\n",
        "from tensorflow.keras import Sequential,utils\n",
        "from tensorflow.keras.layers import Dense, Flatten,GlobalAveragePooling2D,Dropout\n",
        "from tensorflow.keras.applications import MobileNet\n",
        "from tensorflow.keras.optimizers import Adam\n",
        "from tensorflow.keras.regularizers import l2\n",
        "from tensorflow.keras.preprocessing.image import ImageDataGenerator\n",
        "from tensorflow.keras.callbacks import ModelCheckpoint, EarlyStopping, LearningRateScheduler\n"
      ]
    },
    {
      "cell_type": "code",
      "source": [
        "# Data Augmentation\n",
        "train_datagen = ImageDataGenerator(\n",
        "    rescale=1.0 / 255,\n",
        "    rotation_range=20,\n",
        "    width_shift_range=0.2,\n",
        "    height_shift_range=0.2,\n",
        "    shear_range=0.2,\n",
        "    zoom_range=0.2,\n",
        "    horizontal_flip=True,\n",
        "    fill_mode='nearest'\n",
        ")\n",
        "\n",
        "# Load and augment the training dataset\n",
        "train_ds = train_datagen.flow_from_directory(\n",
        "    directory='/content/drive/MyDrive/Potato/Train',\n",
        "    target_size=(256, 256),\n",
        "    batch_size=16,\n",
        "    class_mode='categorical',\n",
        "    color_mode='rgb'\n",
        ")\n",
        "\n",
        "valid_datagen = ImageDataGenerator(rescale=1.0 / 255)\n",
        "\n",
        "valid_ds = valid_datagen.flow_from_directory(\n",
        "    directory='/content/drive/MyDrive/Potato/Valid',\n",
        "    target_size=(256, 256),\n",
        "    batch_size=16,\n",
        "    class_mode='categorical',\n",
        "    color_mode='rgb'\n",
        ")\n",
        "\n"
      ],
      "metadata": {
        "colab": {
          "base_uri": "https://localhost:8080/"
        },
        "id": "EALxcsF4yUfq",
        "outputId": "a93c4576-1bd4-4069-fc98-f59035f8b6f7"
      },
      "execution_count": 2,
      "outputs": [
        {
          "output_type": "stream",
          "name": "stdout",
          "text": [
            "Found 900 images belonging to 3 classes.\n",
            "Found 302 images belonging to 3 classes.\n"
          ]
        }
      ]
    },
    {
      "cell_type": "code",
      "source": [
        "conv_base = MobileNet(\n",
        "    weights='imagenet',\n",
        "    include_top=False,\n",
        "    input_shape=(256, 256, 3)\n",
        ")\n",
        "\n",
        "conv_base.trainable = False"
      ],
      "metadata": {
        "colab": {
          "base_uri": "https://localhost:8080/"
        },
        "id": "UBoH0Rbkyk-_",
        "outputId": "f9aad3e6-9db8-43d9-e6f0-a6e1c8e30974"
      },
      "execution_count": 3,
      "outputs": [
        {
          "output_type": "stream",
          "name": "stderr",
          "text": [
            "WARNING:tensorflow:`input_shape` is undefined or non-square, or `rows` is not in [128, 160, 192, 224]. Weights for input shape (224, 224) will be loaded as the default.\n"
          ]
        },
        {
          "output_type": "stream",
          "name": "stdout",
          "text": [
            "Downloading data from https://storage.googleapis.com/tensorflow/keras-applications/mobilenet/mobilenet_1_0_224_tf_no_top.h5\n",
            "17225924/17225924 [==============================] - 0s 0us/step\n"
          ]
        }
      ]
    },
    {
      "cell_type": "code",
      "source": [
        "\n",
        "# Create CNN model\n",
        "model = Sequential()\n",
        "\n",
        "model.add(conv_base)\n",
        "\n",
        "model.add(GlobalAveragePooling2D())\n",
        "\n",
        "model.add(Dense(64, activation='relu',kernel_regularizer=l2(0.01)))\n",
        "model.add(Dense(3, activation='softmax'))\n",
        "\n",
        "model.compile(optimizer='adam', loss='categorical_crossentropy', metrics=['accuracy'])\n"
      ],
      "metadata": {
        "id": "mMNsYh5xyuPN"
      },
      "execution_count": 25,
      "outputs": []
    },
    {
      "cell_type": "code",
      "source": [
        "model.summary()"
      ],
      "metadata": {
        "colab": {
          "base_uri": "https://localhost:8080/"
        },
        "id": "hYLtAfQf2mZL",
        "outputId": "c0e394af-58fe-43a1-fa5a-ff8c6a8a0672"
      },
      "execution_count": 26,
      "outputs": [
        {
          "output_type": "stream",
          "name": "stdout",
          "text": [
            "Model: \"sequential_9\"\n",
            "_________________________________________________________________\n",
            " Layer (type)                Output Shape              Param #   \n",
            "=================================================================\n",
            " mobilenet_1.00_224 (Functi  (None, 8, 8, 1024)        3228864   \n",
            " onal)                                                           \n",
            "                                                                 \n",
            " global_average_pooling2d_9  (None, 1024)              0         \n",
            "  (GlobalAveragePooling2D)                                       \n",
            "                                                                 \n",
            " dense_14 (Dense)            (None, 64)                65600     \n",
            "                                                                 \n",
            " dense_15 (Dense)            (None, 3)                 195       \n",
            "                                                                 \n",
            "=================================================================\n",
            "Total params: 3294659 (12.57 MB)\n",
            "Trainable params: 65795 (257.01 KB)\n",
            "Non-trainable params: 3228864 (12.32 MB)\n",
            "_________________________________________________________________\n"
          ]
        }
      ]
    },
    {
      "cell_type": "code",
      "source": [
        "model.fit(train_ds , epochs=10 , validation_data=valid_ds)"
      ],
      "metadata": {
        "colab": {
          "base_uri": "https://localhost:8080/"
        },
        "id": "jVuPT9Q7zYJ3",
        "outputId": "02e851fc-60ac-43c6-8715-577b8f1de279"
      },
      "execution_count": 27,
      "outputs": [
        {
          "output_type": "stream",
          "name": "stdout",
          "text": [
            "Epoch 1/10\n",
            "57/57 [==============================] - 21s 329ms/step - loss: 1.5604 - accuracy: 0.7556 - val_loss: 0.9777 - val_accuracy: 0.9338\n",
            "Epoch 2/10\n",
            "57/57 [==============================] - 19s 329ms/step - loss: 0.8308 - accuracy: 0.9467 - val_loss: 0.6645 - val_accuracy: 0.9702\n",
            "Epoch 3/10\n",
            "57/57 [==============================] - 19s 326ms/step - loss: 0.5858 - accuracy: 0.9689 - val_loss: 0.4943 - val_accuracy: 0.9834\n",
            "Epoch 4/10\n",
            "57/57 [==============================] - 19s 339ms/step - loss: 0.4617 - accuracy: 0.9722 - val_loss: 0.4052 - val_accuracy: 0.9901\n",
            "Epoch 5/10\n",
            "57/57 [==============================] - 19s 343ms/step - loss: 0.3560 - accuracy: 0.9911 - val_loss: 0.3583 - val_accuracy: 0.9801\n",
            "Epoch 6/10\n",
            "57/57 [==============================] - 19s 326ms/step - loss: 0.2956 - accuracy: 0.9922 - val_loss: 0.2813 - val_accuracy: 0.9868\n",
            "Epoch 7/10\n",
            "57/57 [==============================] - 19s 328ms/step - loss: 0.2804 - accuracy: 0.9767 - val_loss: 0.2638 - val_accuracy: 0.9868\n",
            "Epoch 8/10\n",
            "57/57 [==============================] - 19s 328ms/step - loss: 0.2233 - accuracy: 0.9878 - val_loss: 0.2868 - val_accuracy: 0.9636\n",
            "Epoch 9/10\n",
            "57/57 [==============================] - 19s 328ms/step - loss: 0.1903 - accuracy: 0.9944 - val_loss: 0.1947 - val_accuracy: 0.9868\n",
            "Epoch 10/10\n",
            "57/57 [==============================] - 19s 336ms/step - loss: 0.1837 - accuracy: 0.9878 - val_loss: 0.1769 - val_accuracy: 0.9868\n"
          ]
        },
        {
          "output_type": "execute_result",
          "data": {
            "text/plain": [
              "<keras.src.callbacks.History at 0x7b7c985133a0>"
            ]
          },
          "metadata": {},
          "execution_count": 27
        }
      ]
    },
    {
      "cell_type": "code",
      "source": [],
      "metadata": {
        "id": "dhIdsFwOzkHN"
      },
      "execution_count": 5,
      "outputs": []
    }
  ]
}